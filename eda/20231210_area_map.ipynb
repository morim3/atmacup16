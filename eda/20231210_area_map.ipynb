{
 "cells": [
  {
   "cell_type": "code",
   "execution_count": 1,
   "id": "ecf2e0b6-dca8-4733-859d-f2761c2efbdf",
   "metadata": {},
   "outputs": [],
   "source": [
    "from tools import data_loader\n",
    "import numpy as np\n",
    "import polars as pl\n"
   ]
  },
  {
   "cell_type": "code",
   "execution_count": 80,
   "id": "5a369489-a5b0-4e2f-8852-e1d9080dd9ab",
   "metadata": {},
   "outputs": [],
   "source": [
    "loader = data_loader.AtmaData16Loader()\n",
    "train_log = loader.load_train_log()\n",
    "yado = loader.load_yado()"
   ]
  },
  {
   "cell_type": "code",
   "execution_count": 8,
   "id": "893f8ad4-4c39-4eae-b195-534819b59e85",
   "metadata": {},
   "outputs": [
    {
     "data": {
      "text/html": [
       "<div><style>\n",
       ".dataframe > thead > tr,\n",
       ".dataframe > tbody > tr {\n",
       "  text-align: right;\n",
       "  white-space: pre-wrap;\n",
       "}\n",
       "</style>\n",
       "<small>shape: (13_806, 13)</small><table border=\"1\" class=\"dataframe\"><thead><tr><th>yad_no</th><th>yad_type</th><th>total_room_cnt</th><th>wireless_lan_flg</th><th>onsen_flg</th><th>kd_stn_5min</th><th>kd_bch_5min</th><th>kd_slp_5min</th><th>kd_conv_walk_5min</th><th>wid_cd</th><th>ken_cd</th><th>lrg_cd</th><th>sml_cd</th></tr><tr><td>i64</td><td>i64</td><td>f64</td><td>f64</td><td>i64</td><td>f64</td><td>f64</td><td>f64</td><td>f64</td><td>str</td><td>str</td><td>str</td><td>str</td></tr></thead><tbody><tr><td>1</td><td>0</td><td>129.0</td><td>1.0</td><td>0</td><td>1.0</td><td>null</td><td>null</td><td>1.0</td><td>&quot;f0112abf369fb0…</td><td>&quot;072c85e1653e10…</td><td>&quot;449c52ef581d5f…</td><td>&quot;677a32689cd1ad…</td></tr><tr><td>2</td><td>0</td><td>23.0</td><td>1.0</td><td>0</td><td>null</td><td>null</td><td>null</td><td>null</td><td>&quot;d86102dd9c232b…</td><td>&quot;b4d2fb4e51ea7b…</td><td>&quot;5c9a8f48e9df02…</td><td>&quot;4ee16ee838dd27…</td></tr><tr><td>3</td><td>0</td><td>167.0</td><td>1.0</td><td>1</td><td>1.0</td><td>null</td><td>null</td><td>1.0</td><td>&quot;46e33861f921c3…</td><td>&quot;572d60f0f5212a…</td><td>&quot;8a623b960557e8…</td><td>&quot;ab9480fd72a44d…</td></tr><tr><td>4</td><td>0</td><td>144.0</td><td>1.0</td><td>0</td><td>1.0</td><td>null</td><td>null</td><td>1.0</td><td>&quot;46e33861f921c3…</td><td>&quot;107c7305a74c8d…</td><td>&quot;52c9ea83f2cfe9…</td><td>&quot;1cc3e1838bb0fd…</td></tr><tr><td>5</td><td>0</td><td>41.0</td><td>1.0</td><td>1</td><td>null</td><td>null</td><td>null</td><td>null</td><td>&quot;43875109d1dab9…</td><td>&quot;75617bb07a2785…</td><td>&quot;9ea5a911019b66…</td><td>&quot;be1b876af18afc…</td></tr><tr><td>6</td><td>0</td><td>9.0</td><td>1.0</td><td>1</td><td>null</td><td>null</td><td>null</td><td>1.0</td><td>&quot;8a1c0d3243bba1…</td><td>&quot;ce83563814cff3…</td><td>&quot;230a892f40289e…</td><td>&quot;e5e2f95a6c898e…</td></tr><tr><td>7</td><td>0</td><td>14.0</td><td>1.0</td><td>0</td><td>1.0</td><td>null</td><td>null</td><td>null</td><td>&quot;46e33861f921c3…</td><td>&quot;107c7305a74c8d…</td><td>&quot;d153c8fd78bfad…</td><td>&quot;93bb8a3bdcfb29…</td></tr><tr><td>8</td><td>0</td><td>111.0</td><td>1.0</td><td>0</td><td>null</td><td>null</td><td>null</td><td>1.0</td><td>&quot;f0112abf369fb0…</td><td>&quot;072c85e1653e10…</td><td>&quot;449c52ef581d5f…</td><td>&quot;677a32689cd1ad…</td></tr><tr><td>9</td><td>0</td><td>52.0</td><td>1.0</td><td>0</td><td>null</td><td>null</td><td>null</td><td>1.0</td><td>&quot;f0112abf369fb0…</td><td>&quot;072c85e1653e10…</td><td>&quot;bd8bc296d0c3e7…</td><td>&quot;a4d15da8bc58c9…</td></tr><tr><td>10</td><td>0</td><td>null</td><td>null</td><td>1</td><td>null</td><td>null</td><td>1.0</td><td>null</td><td>&quot;8a1c0d3243bba1…</td><td>&quot;94d4f7dc1971d3…</td><td>&quot;ae9222bd7a657c…</td><td>&quot;dc315a13ea1ffe…</td></tr><tr><td>11</td><td>0</td><td>12.0</td><td>null</td><td>1</td><td>null</td><td>null</td><td>null</td><td>null</td><td>&quot;46e33861f921c3…</td><td>&quot;c86352f5b57e80…</td><td>&quot;f7fc8c414fb252…</td><td>&quot;05ad22285893e4…</td></tr><tr><td>12</td><td>0</td><td>16.0</td><td>null</td><td>1</td><td>null</td><td>null</td><td>1.0</td><td>null</td><td>&quot;d86102dd9c232b…</td><td>&quot;b4d2fb4e51ea7b…</td><td>&quot;29b680542fd396…</td><td>&quot;d0e540434c631a…</td></tr><tr><td>&hellip;</td><td>&hellip;</td><td>&hellip;</td><td>&hellip;</td><td>&hellip;</td><td>&hellip;</td><td>&hellip;</td><td>&hellip;</td><td>&hellip;</td><td>&hellip;</td><td>&hellip;</td><td>&hellip;</td><td>&hellip;</td></tr><tr><td>13795</td><td>0</td><td>57.0</td><td>1.0</td><td>1</td><td>null</td><td>null</td><td>null</td><td>1.0</td><td>&quot;e9316013ee1b03…</td><td>&quot;84efa50e52f9b4…</td><td>&quot;6991a9d2e7fe40…</td><td>&quot;51450d88ac85e2…</td></tr><tr><td>13796</td><td>0</td><td>105.0</td><td>1.0</td><td>0</td><td>1.0</td><td>null</td><td>null</td><td>1.0</td><td>&quot;f0112abf369fb0…</td><td>&quot;072c85e1653e10…</td><td>&quot;06cdfa18559e54…</td><td>&quot;5e52f51baa60e3…</td></tr><tr><td>13797</td><td>0</td><td>87.0</td><td>1.0</td><td>0</td><td>1.0</td><td>null</td><td>null</td><td>1.0</td><td>&quot;46e33861f921c3…</td><td>&quot;c86352f5b57e80…</td><td>&quot;9d6a46da05976c…</td><td>&quot;568887ea1e1d8c…</td></tr><tr><td>13798</td><td>0</td><td>null</td><td>null</td><td>1</td><td>null</td><td>null</td><td>null</td><td>1.0</td><td>&quot;dc414a17890cfc…</td><td>&quot;d78f53d0856617…</td><td>&quot;b9c5be10de6118…</td><td>&quot;284ab43612caf3…</td></tr><tr><td>13799</td><td>0</td><td>67.0</td><td>1.0</td><td>1</td><td>null</td><td>1.0</td><td>null</td><td>null</td><td>&quot;321b69d5eec98f…</td><td>&quot;0745a2107686fc…</td><td>&quot;5f6ef5263d833d…</td><td>&quot;705ac12b1b79b4…</td></tr><tr><td>13800</td><td>0</td><td>135.0</td><td>1.0</td><td>0</td><td>1.0</td><td>null</td><td>null</td><td>1.0</td><td>&quot;b07b75d367ebec…</td><td>&quot;0a66f6ab9c0507…</td><td>&quot;9ab5718fd88c6e…</td><td>&quot;ee9db5c2d744d8…</td></tr><tr><td>13801</td><td>0</td><td>300.0</td><td>1.0</td><td>0</td><td>null</td><td>null</td><td>null</td><td>1.0</td><td>&quot;e9316013ee1b03…</td><td>&quot;517061b8165aa6…</td><td>&quot;5292f57c6ffd07…</td><td>&quot;8a04ba33486c0b…</td></tr><tr><td>13802</td><td>0</td><td>10.0</td><td>1.0</td><td>1</td><td>null</td><td>null</td><td>null</td><td>null</td><td>&quot;c312e07b7a5d45…</td><td>&quot;558ac1909f0318…</td><td>&quot;80fb3c5ad0c899…</td><td>&quot;5eb30820716082…</td></tr><tr><td>13803</td><td>0</td><td>null</td><td>null</td><td>0</td><td>1.0</td><td>null</td><td>null</td><td>1.0</td><td>&quot;dc414a17890cfc…</td><td>&quot;d78f53d0856617…</td><td>&quot;e5cfcc0a43c820…</td><td>&quot;20ad8785a30f12…</td></tr><tr><td>13804</td><td>0</td><td>80.0</td><td>1.0</td><td>1</td><td>null</td><td>1.0</td><td>null</td><td>1.0</td><td>&quot;d86102dd9c232b…</td><td>&quot;7d76599bd27ff9…</td><td>&quot;c5fe8848b6ab39…</td><td>&quot;b3eab50ccf6ffb…</td></tr><tr><td>13805</td><td>0</td><td>8.0</td><td>1.0</td><td>1</td><td>null</td><td>null</td><td>null</td><td>1.0</td><td>&quot;3300cf6f774b7c…</td><td>&quot;689cf8289e7ea0…</td><td>&quot;8b712435430a68…</td><td>&quot;2b4165444a7774…</td></tr><tr><td>13806</td><td>0</td><td>120.0</td><td>null</td><td>0</td><td>1.0</td><td>null</td><td>null</td><td>1.0</td><td>&quot;f0112abf369fb0…</td><td>&quot;072c85e1653e10…</td><td>&quot;810a15fb99b13c…</td><td>&quot;bacd9adfafe9ef…</td></tr></tbody></table></div>"
      ],
      "text/plain": [
       "shape: (13_806, 13)\n",
       "┌────────┬──────────┬────────────┬────────────┬───┬────────────┬───────────┬───────────┬───────────┐\n",
       "│ yad_no ┆ yad_type ┆ total_room ┆ wireless_l ┆ … ┆ wid_cd     ┆ ken_cd    ┆ lrg_cd    ┆ sml_cd    │\n",
       "│ ---    ┆ ---      ┆ _cnt       ┆ an_flg     ┆   ┆ ---        ┆ ---       ┆ ---       ┆ ---       │\n",
       "│ i64    ┆ i64      ┆ ---        ┆ ---        ┆   ┆ str        ┆ str       ┆ str       ┆ str       │\n",
       "│        ┆          ┆ f64        ┆ f64        ┆   ┆            ┆           ┆           ┆           │\n",
       "╞════════╪══════════╪════════════╪════════════╪═══╪════════════╪═══════════╪═══════════╪═══════════╡\n",
       "│ 1      ┆ 0        ┆ 129.0      ┆ 1.0        ┆ … ┆ f0112abf36 ┆ 072c85e16 ┆ 449c52ef5 ┆ 677a32689 │\n",
       "│        ┆          ┆            ┆            ┆   ┆ 9fb03cdc5f ┆ 53e10c9c7 ┆ 81d5f9ef3 ┆ cd1ad74e8 │\n",
       "│        ┆          ┆            ┆            ┆   ┆ 5309300913 ┆ dd065ad00 ┆ 11189469a ┆ 67f1fbe43 │\n",
       "│        ┆          ┆            ┆            ┆   ┆ da         ┆ 7125a     ┆ 0520e     ┆ a3e1c     │\n",
       "│ 2      ┆ 0        ┆ 23.0       ┆ 1.0        ┆ … ┆ d86102dd9c ┆ b4d2fb4e5 ┆ 5c9a8f48e ┆ 4ee16ee83 │\n",
       "│        ┆          ┆            ┆            ┆   ┆ 232bade9a9 ┆ 1ea7bca80 ┆ 9df0234da ┆ 8dd2703cc │\n",
       "│        ┆          ┆            ┆            ┆   ┆ 7dccad40df ┆ eb1270aa4 ┆ 012747a02 ┆ 9a1d5a535 │\n",
       "│        ┆          ┆            ┆            ┆   ┆ 48         ┆ 74a54     ┆ d4b29     ┆ f0ced     │\n",
       "│ 3      ┆ 0        ┆ 167.0      ┆ 1.0        ┆ … ┆ 46e33861f9 ┆ 572d60f0f ┆ 8a623b960 ┆ ab9480fd7 │\n",
       "│        ┆          ┆            ┆            ┆   ┆ 21c3e38b81 ┆ 5212aacda ┆ 557e87bd1 ┆ 2a44d5169 │\n",
       "│        ┆          ┆            ┆            ┆   ┆ 998fbf283f ┆ 515ebf81f ┆ f4edf71b6 ┆ 0ab16c4ad │\n",
       "│        ┆          ┆            ┆            ┆   ┆ 01         ┆ b0a3a     ┆ 255be     ┆ 4d49c     │\n",
       "│ 4      ┆ 0        ┆ 144.0      ┆ 1.0        ┆ … ┆ 46e33861f9 ┆ 107c7305a ┆ 52c9ea83f ┆ 1cc3e1838 │\n",
       "│        ┆          ┆            ┆            ┆   ┆ 21c3e38b81 ┆ 74c8dcc4f ┆ 2cfe92be5 ┆ bb0fd0fde │\n",
       "│        ┆          ┆            ┆            ┆   ┆ 998fbf283f ┆ 143de208b ┆ 4cb6bc961 ┆ 0396130b1 │\n",
       "│        ┆          ┆            ┆            ┆   ┆ 01         ┆ f7ec2     ┆ edf21     ┆ f82b9     │\n",
       "│ …      ┆ …        ┆ …          ┆ …          ┆ … ┆ …          ┆ …         ┆ …         ┆ …         │\n",
       "│ 13803  ┆ 0        ┆ null       ┆ null       ┆ … ┆ dc414a1789 ┆ d78f53d08 ┆ e5cfcc0a4 ┆ 20ad8785a │\n",
       "│        ┆          ┆            ┆            ┆   ┆ 0cfc17d011 ┆ 56617bc78 ┆ 3c82072ac ┆ 30f125bee │\n",
       "│        ┆          ┆            ┆            ┆   ┆ d5038b88ca ┆ 2f02c3280 ┆ a11628ff0 ┆ 5a8a32578 │\n",
       "│        ┆          ┆            ┆            ┆   ┆ 93         ┆ dfef2     ┆ add53     ┆ 2ab06     │\n",
       "│ 13804  ┆ 0        ┆ 80.0       ┆ 1.0        ┆ … ┆ d86102dd9c ┆ 7d76599bd ┆ c5fe8848b ┆ b3eab50cc │\n",
       "│        ┆          ┆            ┆            ┆   ┆ 232bade9a9 ┆ 27ff9e782 ┆ 6ab39b040 ┆ f6ffb51c3 │\n",
       "│        ┆          ┆            ┆            ┆   ┆ 7dccad40df ┆ 3b2b1323c ┆ cdb3668ae ┆ 7d36ee384 │\n",
       "│        ┆          ┆            ┆            ┆   ┆ 48         ┆ a763e     ┆ a9433     ┆ abfbf     │\n",
       "│ 13805  ┆ 0        ┆ 8.0        ┆ 1.0        ┆ … ┆ 3300cf6f77 ┆ 689cf8289 ┆ 8b7124354 ┆ 2b4165444 │\n",
       "│        ┆          ┆            ┆            ┆   ┆ 4b7c6a5807 ┆ e7ea0b2ee ┆ 30a687583 ┆ a77746557 │\n",
       "│        ┆          ┆            ┆            ┆   ┆ 110f244cbc ┆ f1b017dcd ┆ 9a6c3b5a4 ┆ 6b25f6569 │\n",
       "│        ┆          ┆            ┆            ┆   ┆ 21         ┆ fe8de     ┆ 0b008     ┆ 7d739     │\n",
       "│ 13806  ┆ 0        ┆ 120.0      ┆ null       ┆ … ┆ f0112abf36 ┆ 072c85e16 ┆ 810a15fb9 ┆ bacd9adfa │\n",
       "│        ┆          ┆            ┆            ┆   ┆ 9fb03cdc5f ┆ 53e10c9c7 ┆ 9b13cded4 ┆ fe9ef2ab4 │\n",
       "│        ┆          ┆            ┆            ┆   ┆ 5309300913 ┆ dd065ad00 ┆ 4cc30ccf6 ┆ aad55e6d9 │\n",
       "│        ┆          ┆            ┆            ┆   ┆ da         ┆ 7125a     ┆ f61a8     ┆ 9f09c     │\n",
       "└────────┴──────────┴────────────┴────────────┴───┴────────────┴───────────┴───────────┴───────────┘"
      ]
     },
     "execution_count": 8,
     "metadata": {},
     "output_type": "execute_result"
    }
   ],
   "source": [
    "yado"
   ]
  },
  {
   "cell_type": "code",
   "execution_count": 9,
   "id": "701db9a4-c0ff-4e35-aead-2e2f09a8e5ec",
   "metadata": {},
   "outputs": [],
   "source": [
    "wid_cd_map = {\n",
    "    \"321b69d5eec98fe6253e26b86058e6a9\": \"北陸\",\n",
    "    \"3300cf6f774b7c6a5807110f244cbc21\": \"甲信越\",\n",
    "    \"43875109d1dab93592812c50d18270a7\": \"四国\",\n",
    "    \"46e33861f921c3e38b81998fbf283f01\": \"首都圏\",\n",
    "    \"89e181a40914767dfee00fa2b7c2dcb5\": \"沖縄\",\n",
    "    \"8a1c0d3243bba111cbcd1ec6c692dc6d\": \"北関東\",\n",
    "    \"b07b75d367ebece55a23ceecc939fff4\": \"北海道\",\n",
    "    \"c312e07b7a5d456d53a5b00910a336e1\": \"東北\",\n",
    "    \"d86102dd9c232bade9a97dccad40df48\": \"山陰・山陽\",\n",
    "    \"dc414a17890cfc17d011d5038b88ca93\": \"東海\",\n",
    "    \"e9316013ee1b03f4525fe361c46ce9c5\": \"九州\",\n",
    "    \"f0112abf369fb03cdc5f5309300913da\": \"近畿\",\n",
    "}\n",
    "\n",
    "# ken_cd_map = {\n",
    "#     # 近畿\n",
    "#     \"ade0e32ad9713b41613b242ba618f776\": \"滋賀\",\n",
    "#     \"ce3aaf25e7e38a0c42d373fb148efc86\": \"京都\",\n",
    "#     \"072c85e1653e10c9c7dd065ad007125a\": \"大阪\",\n",
    "#     \"bd054cc265d68a400ccb976ac69c6463\": \"兵庫\",\n",
    "#     \"470fa9ac04f80c7e13db398668e124bf\": \"奈良\",\n",
    "#     \"fec19ba0016c012f3a06360cfff6da32\": \"和歌山\",\n",
    "#     #四国\n",
    "#     \"3b09a7ce9934c00fd266f9cf246308d1\": \"愛媛\",\n",
    "    \n",
    "#     \"\n",
    "    \n",
    "    \n",
    "    \n",
    "    \n",
    "# }\n"
   ]
  },
  {
   "cell_type": "code",
   "execution_count": 76,
   "id": "8e9af88d-6bfe-40bb-85f9-0f61e0c0490d",
   "metadata": {},
   "outputs": [
    {
     "name": "stdout",
     "output_type": "stream",
     "text": [
      "shape: (4, 3)\n",
      "┌──────────┬──────────────────────────────────┬───────┐\n",
      "│ wid_name ┆ ken_cd                           ┆ count │\n",
      "│ ---      ┆ ---                              ┆ ---   │\n",
      "│ str      ┆ str                              ┆ u32   │\n",
      "╞══════════╪══════════════════════════════════╪═══════╡\n",
      "│ 首都圏   ┆ 107c7305a74c8dcc4f143de208bf7ec2 ┆ 13    │\n",
      "│ 首都圏   ┆ 572d60f0f5212aacda515ebf81fb0a3a ┆ 8     │\n",
      "│ 首都圏   ┆ 83522288daa2f3a0010f79df27c38ea5 ┆ 6     │\n",
      "│ 首都圏   ┆ c86352f5b57e80fe545cfec1fd8505a1 ┆ 8     │\n",
      "└──────────┴──────────────────────────────────┴───────┘\n",
      "shape: (35, 4)\n",
      "┌──────────┬──────────────────────────────────┬──────────────────────────────────┬───────┐\n",
      "│ wid_name ┆ ken_cd                           ┆ lrg_cd                           ┆ count │\n",
      "│ ---      ┆ ---                              ┆ ---                              ┆ ---   │\n",
      "│ str      ┆ str                              ┆ str                              ┆ u32   │\n",
      "╞══════════╪══════════════════════════════════╪══════════════════════════════════╪═══════╡\n",
      "│ 首都圏   ┆ 107c7305a74c8dcc4f143de208bf7ec2 ┆ 02b03ddff2e82cb0bec8826597961845 ┆ 2     │\n",
      "│ 首都圏   ┆ 107c7305a74c8dcc4f143de208bf7ec2 ┆ c9d5e891463e5389c42d16f987ed30bd ┆ 4     │\n",
      "│ 首都圏   ┆ 107c7305a74c8dcc4f143de208bf7ec2 ┆ eb147deb12cb673a610a416504ea62e2 ┆ 4     │\n",
      "│ 首都圏   ┆ 107c7305a74c8dcc4f143de208bf7ec2 ┆ 52c9ea83f2cfe92be54cb6bc961edf21 ┆ 2     │\n",
      "│ 首都圏   ┆ 107c7305a74c8dcc4f143de208bf7ec2 ┆ aabf8b3cf6414702adfda5532705759a ┆ 2     │\n",
      "│ 首都圏   ┆ 107c7305a74c8dcc4f143de208bf7ec2 ┆ 52ca3d2824fc3cc90bd4274423badeed ┆ 3     │\n",
      "│ 首都圏   ┆ 107c7305a74c8dcc4f143de208bf7ec2 ┆ 3a6cd37aa9e38fd96d9dafc2615643d0 ┆ 3     │\n",
      "│ 首都圏   ┆ 107c7305a74c8dcc4f143de208bf7ec2 ┆ d1f61a5308434688b2d6fb7cdce84ea2 ┆ 1     │\n",
      "│ 首都圏   ┆ 107c7305a74c8dcc4f143de208bf7ec2 ┆ d944a4adb81c65f0392a8a273606ba72 ┆ 1     │\n",
      "│ 首都圏   ┆ 107c7305a74c8dcc4f143de208bf7ec2 ┆ d3ee2b151edf76a1afe1993bee2e6614 ┆ 1     │\n",
      "│ …        ┆ …                                ┆ …                                ┆ …     │\n",
      "│ 首都圏   ┆ 83522288daa2f3a0010f79df27c38ea5 ┆ f0073125ea72d8fd9ec953190279c4ac ┆ 2     │\n",
      "│ 首都圏   ┆ 83522288daa2f3a0010f79df27c38ea5 ┆ 6fdf054eb1a2477bc900ac5e42576763 ┆ 2     │\n",
      "│ 首都圏   ┆ c86352f5b57e80fe545cfec1fd8505a1 ┆ 30e12d5f9c1a9ecb5db3404ec0bd34e1 ┆ 1     │\n",
      "│ 首都圏   ┆ c86352f5b57e80fe545cfec1fd8505a1 ┆ 327f6c86c93b79bde2d0ace1309b3d49 ┆ 2     │\n",
      "│ 首都圏   ┆ c86352f5b57e80fe545cfec1fd8505a1 ┆ 7974c7e841b95bf5fe606cce6472e159 ┆ 4     │\n",
      "│ 首都圏   ┆ c86352f5b57e80fe545cfec1fd8505a1 ┆ 9d6a46da05976cab8ac2b8583215c665 ┆ 2     │\n",
      "│ 首都圏   ┆ c86352f5b57e80fe545cfec1fd8505a1 ┆ f7fc8c414fb2528ecffe882510e33dda ┆ 2     │\n",
      "│ 首都圏   ┆ c86352f5b57e80fe545cfec1fd8505a1 ┆ 49c95c1add03ed6cc26e24d207583df1 ┆ 1     │\n",
      "│ 首都圏   ┆ c86352f5b57e80fe545cfec1fd8505a1 ┆ 2e35ef11a402c4687ced0fde49e628ea ┆ 1     │\n",
      "│ 首都圏   ┆ c86352f5b57e80fe545cfec1fd8505a1 ┆ 9ed73ed4f6e7c7f1e4b3077ff2b1d311 ┆ 2     │\n",
      "└──────────┴──────────────────────────────────┴──────────────────────────────────┴───────┘\n"
     ]
    }
   ],
   "source": [
    "pl.Config.set_tbl_cols(10)\n",
    "pl.Config.set_tbl_rows(20)\n",
    "pl.Config.set_fmt_str_lengths(n=70)\n",
    "print(yado[[\"wid_name\", \"ken_cd\", \"lrg_cd\"]].unique().sort(by=[\"wid_name\", \"ken_cd\"]).group_by(\"wid_name\", \"ken_cd\").count().filter(pl.col(\"wid_name\")==\"首都圏\"))\n",
    "print(yado[[\"wid_name\", \"ken_cd\", \"lrg_cd\", \"sml_cd\"]].unique().group_by(\"wid_name\", \"ken_cd\",\"lrg_cd\").count().sort(by=\"ken_cd\").filter(pl.col(\"wid_name\")==\"首都圏\"))"
   ]
  },
  {
   "cell_type": "code",
   "execution_count": 81,
   "id": "e298876b-30dd-4116-947c-2e42c3d96a20",
   "metadata": {},
   "outputs": [],
   "source": [
    "\n",
    "# yado = yado.with_columns(\n",
    "#     yado['wid_cd'].apply(lambda x: wid_cd_map.get(x, \"Unknown\")).alias('wid_name')\n",
    "# )"
   ]
  },
  {
   "cell_type": "code",
   "execution_count": 97,
   "id": "b1dda5a0-fd9c-41d4-a554-b9ee156ea122",
   "metadata": {},
   "outputs": [
    {
     "name": "stdout",
     "output_type": "stream",
     "text": [
      "shape: (419_270, 4)\n",
      "┌──────────────────────────────────┬────────┬────────┬──────┐\n",
      "│ session_id                       ┆ seq_no ┆ yad_no ┆ enum │\n",
      "│ ---                              ┆ ---    ┆ ---    ┆ ---  │\n",
      "│ str                              ┆ i64    ┆ i64    ┆ u32  │\n",
      "╞══════════════════════════════════╪════════╪════════╪══════╡\n",
      "│ 000007603d533d30453cc45d0f3d119f ┆ 0      ┆ 2395   ┆ 1    │\n",
      "│ 0000ca043ed437a1472c9d1d154eb49b ┆ 0      ┆ 13535  ┆ 1    │\n",
      "│ 0000d4835cf113316fe447e2f80ba1c8 ┆ 0      ┆ 123    ┆ 1    │\n",
      "│ 0000fcda1ae1b2f431e55a7075d1f500 ┆ 0      ┆ 8475   ┆ 1    │\n",
      "│ …                                ┆ …      ┆ …      ┆ …    │\n",
      "│ ffffcd5bc19d62cad5a3815c87818d83 ┆ 1      ┆ 10619  ┆ 2    │\n",
      "│ ffffcd5bc19d62cad5a3815c87818d83 ┆ 2      ┆ 12230  ┆ 1    │\n",
      "│ fffffa7baf370083ebcdd98f26a7e31a ┆ 0      ┆ 2439   ┆ 2    │\n",
      "│ fffffa7baf370083ebcdd98f26a7e31a ┆ 1      ┆ 11822  ┆ 1    │\n",
      "└──────────────────────────────────┴────────┴────────┴──────┘\n",
      "shape: (288_698, 11)\n",
      "┌──────────────────────────────────┬───────┬───────┬───────┬───┬───────┬───────┬───────┬────────┐\n",
      "│ session_id                       ┆ yad_1 ┆ yad_2 ┆ yad_3 ┆ … ┆ yad_7 ┆ yad_8 ┆ yad_9 ┆ yad_10 │\n",
      "│ ---                              ┆ ---   ┆ ---   ┆ ---   ┆   ┆ ---   ┆ ---   ┆ ---   ┆ ---    │\n",
      "│ str                              ┆ i64   ┆ i64   ┆ i64   ┆   ┆ i64   ┆ i64   ┆ i64   ┆ i64    │\n",
      "╞══════════════════════════════════╪═══════╪═══════╪═══════╪═══╪═══════╪═══════╪═══════╪════════╡\n",
      "│ 000007603d533d30453cc45d0f3d119f ┆ 2395  ┆ null  ┆ null  ┆ … ┆ null  ┆ null  ┆ null  ┆ null   │\n",
      "│ 0000ca043ed437a1472c9d1d154eb49b ┆ 13535 ┆ null  ┆ null  ┆ … ┆ null  ┆ null  ┆ null  ┆ null   │\n",
      "│ 0000d4835cf113316fe447e2f80ba1c8 ┆ 123   ┆ null  ┆ null  ┆ … ┆ null  ┆ null  ┆ null  ┆ null   │\n",
      "│ 0000fcda1ae1b2f431e55a7075d1f500 ┆ 8475  ┆ null  ┆ null  ┆ … ┆ null  ┆ null  ┆ null  ┆ null   │\n",
      "│ …                                ┆ …     ┆ …     ┆ …     ┆ … ┆ …     ┆ …     ┆ …     ┆ …      │\n",
      "│ ffff2360540745117193ecadcdc06538 ┆ 2121  ┆ null  ┆ null  ┆ … ┆ null  ┆ null  ┆ null  ┆ null   │\n",
      "│ ffff7fb4617164b2604aaf51c40bf82d ┆ 7183  ┆ null  ┆ null  ┆ … ┆ null  ┆ null  ┆ null  ┆ null   │\n",
      "│ ffffcd5bc19d62cad5a3815c87818d83 ┆ 12230 ┆ 10619 ┆ 12230 ┆ … ┆ null  ┆ null  ┆ null  ┆ null   │\n",
      "│ fffffa7baf370083ebcdd98f26a7e31a ┆ 11822 ┆ 2439  ┆ null  ┆ … ┆ null  ┆ null  ┆ null  ┆ null   │\n",
      "└──────────────────────────────────┴───────┴───────┴───────┴───┴───────┴───────┴───────┴────────┘\n"
     ]
    }
   ],
   "source": [
    "enumerated = train_log.with_columns(\n",
    "    pl.arange(pl.count(), 0, -1).over(\"session_id\").alias(\"enum\")\n",
    ")\n",
    "print(enumerated)\n",
    "# Step 3: Pivot the table\n",
    "pivoted = enumerated.pivot(index=\"session_id\", columns=\"enum\", values=\"yad_no\")\n",
    "pivoted = pivoted.select([\"session_id\"]+[pl.col(f\"{i}\").alias(f\"yad_{i}\") for i in range(1, 11)])\n",
    "# pivoted = pivoted.select([\"session_id\", \"1\", \"2\", \"3\", \"4\"])\n",
    "# # Step 4: Fill missing values with null\n",
    "# result = pivoted.fill_none(\"null\")\n",
    "print(pivoted)\n"
   ]
  },
  {
   "cell_type": "code",
   "execution_count": 98,
   "id": "57be877f-988e-4449-a85b-45a0056250de",
   "metadata": {
    "scrolled": true
   },
   "outputs": [],
   "source": [
    "pivoted_feature = pivoted\n",
    "for i in range(10):\n",
    "    pivoted_feature = pivoted_feature.join(yado, how=\"left\", left_on=f\"yad_{i+1}\", right_on=\"yad_no\", suffix=(f'_{i+1}'))\n",
    "    # 不要になった yad_no 列を削除\n",
    "    # expanded_df = expanded_df.drop(columns=[\"yad_no\"])"
   ]
  },
  {
   "cell_type": "code",
   "execution_count": 99,
   "id": "c1708bbc-d86f-4bdf-9963-ecf1934821f4",
   "metadata": {},
   "outputs": [
    {
     "data": {
      "text/html": [
       "<div><style>\n",
       ".dataframe > thead > tr,\n",
       ".dataframe > tbody > tr {\n",
       "  text-align: right;\n",
       "  white-space: pre-wrap;\n",
       "}\n",
       "</style>\n",
       "<small>shape: (288_698, 131)</small><table border=\"1\" class=\"dataframe\"><thead><tr><th>session_id</th><th>yad_1</th><th>yad_2</th><th>yad_3</th><th>yad_4</th><th>yad_5</th><th>yad_6</th><th>yad_7</th><th>yad_8</th><th>yad_9</th><th>yad_10</th><th>yad_type</th><th>total_room_cnt</th><th>wireless_lan_flg</th><th>onsen_flg</th><th>kd_stn_5min</th><th>kd_bch_5min</th><th>kd_slp_5min</th><th>kd_conv_walk_5min</th><th>wid_cd</th><th>ken_cd</th><th>lrg_cd</th><th>sml_cd</th><th>yad_type_2</th><th>total_room_cnt_2</th><th>wireless_lan_flg_2</th><th>onsen_flg_2</th><th>kd_stn_5min_2</th><th>kd_bch_5min_2</th><th>kd_slp_5min_2</th><th>kd_conv_walk_5min_2</th><th>wid_cd_2</th><th>ken_cd_2</th><th>lrg_cd_2</th><th>sml_cd_2</th><th>yad_type_3</th><th>total_room_cnt_3</th><th>&hellip;</th><th>sml_cd_7</th><th>yad_type_8</th><th>total_room_cnt_8</th><th>wireless_lan_flg_8</th><th>onsen_flg_8</th><th>kd_stn_5min_8</th><th>kd_bch_5min_8</th><th>kd_slp_5min_8</th><th>kd_conv_walk_5min_8</th><th>wid_cd_8</th><th>ken_cd_8</th><th>lrg_cd_8</th><th>sml_cd_8</th><th>yad_type_9</th><th>total_room_cnt_9</th><th>wireless_lan_flg_9</th><th>onsen_flg_9</th><th>kd_stn_5min_9</th><th>kd_bch_5min_9</th><th>kd_slp_5min_9</th><th>kd_conv_walk_5min_9</th><th>wid_cd_9</th><th>ken_cd_9</th><th>lrg_cd_9</th><th>sml_cd_9</th><th>yad_type_10</th><th>total_room_cnt_10</th><th>wireless_lan_flg_10</th><th>onsen_flg_10</th><th>kd_stn_5min_10</th><th>kd_bch_5min_10</th><th>kd_slp_5min_10</th><th>kd_conv_walk_5min_10</th><th>wid_cd_10</th><th>ken_cd_10</th><th>lrg_cd_10</th><th>sml_cd_10</th></tr><tr><td>str</td><td>i64</td><td>i64</td><td>i64</td><td>i64</td><td>i64</td><td>i64</td><td>i64</td><td>i64</td><td>i64</td><td>i64</td><td>i64</td><td>f64</td><td>f64</td><td>i64</td><td>f64</td><td>f64</td><td>f64</td><td>f64</td><td>str</td><td>str</td><td>str</td><td>str</td><td>i64</td><td>f64</td><td>f64</td><td>i64</td><td>f64</td><td>f64</td><td>f64</td><td>f64</td><td>str</td><td>str</td><td>str</td><td>str</td><td>i64</td><td>f64</td><td>&hellip;</td><td>str</td><td>i64</td><td>f64</td><td>f64</td><td>i64</td><td>f64</td><td>f64</td><td>f64</td><td>f64</td><td>str</td><td>str</td><td>str</td><td>str</td><td>i64</td><td>f64</td><td>f64</td><td>i64</td><td>f64</td><td>f64</td><td>f64</td><td>f64</td><td>str</td><td>str</td><td>str</td><td>str</td><td>i64</td><td>f64</td><td>f64</td><td>i64</td><td>f64</td><td>f64</td><td>f64</td><td>f64</td><td>str</td><td>str</td><td>str</td><td>str</td></tr></thead><tbody><tr><td>&quot;000007603d533d…</td><td>2395</td><td>null</td><td>null</td><td>null</td><td>null</td><td>null</td><td>null</td><td>null</td><td>null</td><td>null</td><td>0</td><td>113.0</td><td>1.0</td><td>0</td><td>null</td><td>null</td><td>null</td><td>null</td><td>&quot;dc414a17890cfc…</td><td>&quot;d78f53d0856617…</td><td>&quot;4fd631b1511609…</td><td>&quot;4044dac1931dda…</td><td>null</td><td>null</td><td>null</td><td>null</td><td>null</td><td>null</td><td>null</td><td>null</td><td>null</td><td>null</td><td>null</td><td>null</td><td>null</td><td>null</td><td>&hellip;</td><td>null</td><td>null</td><td>null</td><td>null</td><td>null</td><td>null</td><td>null</td><td>null</td><td>null</td><td>null</td><td>null</td><td>null</td><td>null</td><td>null</td><td>null</td><td>null</td><td>null</td><td>null</td><td>null</td><td>null</td><td>null</td><td>null</td><td>null</td><td>null</td><td>null</td><td>null</td><td>null</td><td>null</td><td>null</td><td>null</td><td>null</td><td>null</td><td>null</td><td>null</td><td>null</td><td>null</td><td>null</td></tr><tr><td>&quot;0000ca043ed437…</td><td>13535</td><td>null</td><td>null</td><td>null</td><td>null</td><td>null</td><td>null</td><td>null</td><td>null</td><td>null</td><td>0</td><td>40.0</td><td>1.0</td><td>0</td><td>1.0</td><td>null</td><td>null</td><td>1.0</td><td>&quot;b07b75d367ebec…</td><td>&quot;0a66f6ab9c0507…</td><td>&quot;9ab5718fd88c6e…</td><td>&quot;7aff71bb47acb7…</td><td>null</td><td>null</td><td>null</td><td>null</td><td>null</td><td>null</td><td>null</td><td>null</td><td>null</td><td>null</td><td>null</td><td>null</td><td>null</td><td>null</td><td>&hellip;</td><td>null</td><td>null</td><td>null</td><td>null</td><td>null</td><td>null</td><td>null</td><td>null</td><td>null</td><td>null</td><td>null</td><td>null</td><td>null</td><td>null</td><td>null</td><td>null</td><td>null</td><td>null</td><td>null</td><td>null</td><td>null</td><td>null</td><td>null</td><td>null</td><td>null</td><td>null</td><td>null</td><td>null</td><td>null</td><td>null</td><td>null</td><td>null</td><td>null</td><td>null</td><td>null</td><td>null</td><td>null</td></tr><tr><td>&quot;0000d4835cf113…</td><td>123</td><td>null</td><td>null</td><td>null</td><td>null</td><td>null</td><td>null</td><td>null</td><td>null</td><td>null</td><td>0</td><td>17.0</td><td>1.0</td><td>0</td><td>null</td><td>null</td><td>null</td><td>null</td><td>&quot;46e33861f921c3…</td><td>&quot;572d60f0f5212a…</td><td>&quot;dac434451fe9bd…</td><td>&quot;b7c56c5d2855b3…</td><td>null</td><td>null</td><td>null</td><td>null</td><td>null</td><td>null</td><td>null</td><td>null</td><td>null</td><td>null</td><td>null</td><td>null</td><td>null</td><td>null</td><td>&hellip;</td><td>null</td><td>null</td><td>null</td><td>null</td><td>null</td><td>null</td><td>null</td><td>null</td><td>null</td><td>null</td><td>null</td><td>null</td><td>null</td><td>null</td><td>null</td><td>null</td><td>null</td><td>null</td><td>null</td><td>null</td><td>null</td><td>null</td><td>null</td><td>null</td><td>null</td><td>null</td><td>null</td><td>null</td><td>null</td><td>null</td><td>null</td><td>null</td><td>null</td><td>null</td><td>null</td><td>null</td><td>null</td></tr><tr><td>&quot;0000fcda1ae1b2…</td><td>8475</td><td>null</td><td>null</td><td>null</td><td>null</td><td>null</td><td>null</td><td>null</td><td>null</td><td>null</td><td>0</td><td>65.0</td><td>1.0</td><td>0</td><td>1.0</td><td>null</td><td>null</td><td>1.0</td><td>&quot;46e33861f921c3…</td><td>&quot;107c7305a74c8d…</td><td>&quot;3a6cd37aa9e38f…</td><td>&quot;f2fcbd8e628721…</td><td>null</td><td>null</td><td>null</td><td>null</td><td>null</td><td>null</td><td>null</td><td>null</td><td>null</td><td>null</td><td>null</td><td>null</td><td>null</td><td>null</td><td>&hellip;</td><td>null</td><td>null</td><td>null</td><td>null</td><td>null</td><td>null</td><td>null</td><td>null</td><td>null</td><td>null</td><td>null</td><td>null</td><td>null</td><td>null</td><td>null</td><td>null</td><td>null</td><td>null</td><td>null</td><td>null</td><td>null</td><td>null</td><td>null</td><td>null</td><td>null</td><td>null</td><td>null</td><td>null</td><td>null</td><td>null</td><td>null</td><td>null</td><td>null</td><td>null</td><td>null</td><td>null</td><td>null</td></tr><tr><td>&quot;000104bdffaaad…</td><td>898</td><td>96</td><td>null</td><td>null</td><td>null</td><td>null</td><td>null</td><td>null</td><td>null</td><td>null</td><td>0</td><td>145.0</td><td>1.0</td><td>0</td><td>null</td><td>null</td><td>null</td><td>1.0</td><td>&quot;e9316013ee1b03…</td><td>&quot;84efa50e52f9b4…</td><td>&quot;a1370d90ed3b80…</td><td>&quot;d72674f02c5340…</td><td>0</td><td>228.0</td><td>1.0</td><td>0</td><td>null</td><td>null</td><td>null</td><td>1.0</td><td>&quot;e9316013ee1b03…</td><td>&quot;84efa50e52f9b4…</td><td>&quot;a1370d90ed3b80…</td><td>&quot;d72674f02c5340…</td><td>null</td><td>null</td><td>&hellip;</td><td>null</td><td>null</td><td>null</td><td>null</td><td>null</td><td>null</td><td>null</td><td>null</td><td>null</td><td>null</td><td>null</td><td>null</td><td>null</td><td>null</td><td>null</td><td>null</td><td>null</td><td>null</td><td>null</td><td>null</td><td>null</td><td>null</td><td>null</td><td>null</td><td>null</td><td>null</td><td>null</td><td>null</td><td>null</td><td>null</td><td>null</td><td>null</td><td>null</td><td>null</td><td>null</td><td>null</td><td>null</td></tr><tr><td>&quot;00011afe25c343…</td><td>6868</td><td>null</td><td>null</td><td>null</td><td>null</td><td>null</td><td>null</td><td>null</td><td>null</td><td>null</td><td>0</td><td>23.0</td><td>1.0</td><td>0</td><td>null</td><td>null</td><td>null</td><td>1.0</td><td>&quot;43875109d1dab9…</td><td>&quot;7d3db9a7acad53…</td><td>&quot;34f448c0371e84…</td><td>&quot;97de2b919a8ec1…</td><td>null</td><td>null</td><td>null</td><td>null</td><td>null</td><td>null</td><td>null</td><td>null</td><td>null</td><td>null</td><td>null</td><td>null</td><td>null</td><td>null</td><td>&hellip;</td><td>null</td><td>null</td><td>null</td><td>null</td><td>null</td><td>null</td><td>null</td><td>null</td><td>null</td><td>null</td><td>null</td><td>null</td><td>null</td><td>null</td><td>null</td><td>null</td><td>null</td><td>null</td><td>null</td><td>null</td><td>null</td><td>null</td><td>null</td><td>null</td><td>null</td><td>null</td><td>null</td><td>null</td><td>null</td><td>null</td><td>null</td><td>null</td><td>null</td><td>null</td><td>null</td><td>null</td><td>null</td></tr><tr><td>&quot;000125c737df18…</td><td>8602</td><td>null</td><td>null</td><td>null</td><td>null</td><td>null</td><td>null</td><td>null</td><td>null</td><td>null</td><td>0</td><td>190.0</td><td>1.0</td><td>0</td><td>1.0</td><td>null</td><td>null</td><td>1.0</td><td>&quot;43875109d1dab9…</td><td>&quot;3b09a7ce9934c0…</td><td>&quot;c0e203c17b3a41…</td><td>&quot;a5a49a911ded94…</td><td>null</td><td>null</td><td>null</td><td>null</td><td>null</td><td>null</td><td>null</td><td>null</td><td>null</td><td>null</td><td>null</td><td>null</td><td>null</td><td>null</td><td>&hellip;</td><td>null</td><td>null</td><td>null</td><td>null</td><td>null</td><td>null</td><td>null</td><td>null</td><td>null</td><td>null</td><td>null</td><td>null</td><td>null</td><td>null</td><td>null</td><td>null</td><td>null</td><td>null</td><td>null</td><td>null</td><td>null</td><td>null</td><td>null</td><td>null</td><td>null</td><td>null</td><td>null</td><td>null</td><td>null</td><td>null</td><td>null</td><td>null</td><td>null</td><td>null</td><td>null</td><td>null</td><td>null</td></tr><tr><td>&quot;0001763050a10b…</td><td>13106</td><td>null</td><td>null</td><td>null</td><td>null</td><td>null</td><td>null</td><td>null</td><td>null</td><td>null</td><td>0</td><td>60.0</td><td>1.0</td><td>0</td><td>1.0</td><td>null</td><td>null</td><td>1.0</td><td>&quot;dc414a17890cfc…</td><td>&quot;d78f53d0856617…</td><td>&quot;e5cfcc0a43c820…</td><td>&quot;e2f51242791849…</td><td>null</td><td>null</td><td>null</td><td>null</td><td>null</td><td>null</td><td>null</td><td>null</td><td>null</td><td>null</td><td>null</td><td>null</td><td>null</td><td>null</td><td>&hellip;</td><td>null</td><td>null</td><td>null</td><td>null</td><td>null</td><td>null</td><td>null</td><td>null</td><td>null</td><td>null</td><td>null</td><td>null</td><td>null</td><td>null</td><td>null</td><td>null</td><td>null</td><td>null</td><td>null</td><td>null</td><td>null</td><td>null</td><td>null</td><td>null</td><td>null</td><td>null</td><td>null</td><td>null</td><td>null</td><td>null</td><td>null</td><td>null</td><td>null</td><td>null</td><td>null</td><td>null</td><td>null</td></tr><tr><td>&quot;000178c4d4d567…</td><td>12062</td><td>null</td><td>null</td><td>null</td><td>null</td><td>null</td><td>null</td><td>null</td><td>null</td><td>null</td><td>0</td><td>51.0</td><td>1.0</td><td>0</td><td>1.0</td><td>null</td><td>null</td><td>1.0</td><td>&quot;3300cf6f774b7c…</td><td>&quot;013592a15b9a68…</td><td>&quot;989ce3ae2fc5f1…</td><td>&quot;ed85e7b17b271d…</td><td>null</td><td>null</td><td>null</td><td>null</td><td>null</td><td>null</td><td>null</td><td>null</td><td>null</td><td>null</td><td>null</td><td>null</td><td>null</td><td>null</td><td>&hellip;</td><td>null</td><td>null</td><td>null</td><td>null</td><td>null</td><td>null</td><td>null</td><td>null</td><td>null</td><td>null</td><td>null</td><td>null</td><td>null</td><td>null</td><td>null</td><td>null</td><td>null</td><td>null</td><td>null</td><td>null</td><td>null</td><td>null</td><td>null</td><td>null</td><td>null</td><td>null</td><td>null</td><td>null</td><td>null</td><td>null</td><td>null</td><td>null</td><td>null</td><td>null</td><td>null</td><td>null</td><td>null</td></tr><tr><td>&quot;0001e6a407a85d…</td><td>4866</td><td>null</td><td>null</td><td>null</td><td>null</td><td>null</td><td>null</td><td>null</td><td>null</td><td>null</td><td>0</td><td>238.0</td><td>1.0</td><td>0</td><td>1.0</td><td>null</td><td>null</td><td>1.0</td><td>&quot;46e33861f921c3…</td><td>&quot;107c7305a74c8d…</td><td>&quot;eb147deb12cb67…</td><td>&quot;247ac4e90c8df7…</td><td>null</td><td>null</td><td>null</td><td>null</td><td>null</td><td>null</td><td>null</td><td>null</td><td>null</td><td>null</td><td>null</td><td>null</td><td>null</td><td>null</td><td>&hellip;</td><td>null</td><td>null</td><td>null</td><td>null</td><td>null</td><td>null</td><td>null</td><td>null</td><td>null</td><td>null</td><td>null</td><td>null</td><td>null</td><td>null</td><td>null</td><td>null</td><td>null</td><td>null</td><td>null</td><td>null</td><td>null</td><td>null</td><td>null</td><td>null</td><td>null</td><td>null</td><td>null</td><td>null</td><td>null</td><td>null</td><td>null</td><td>null</td><td>null</td><td>null</td><td>null</td><td>null</td><td>null</td></tr><tr><td>&quot;0002499cf2713a…</td><td>2043</td><td>null</td><td>null</td><td>null</td><td>null</td><td>null</td><td>null</td><td>null</td><td>null</td><td>null</td><td>0</td><td>143.0</td><td>1.0</td><td>0</td><td>1.0</td><td>null</td><td>null</td><td>1.0</td><td>&quot;dc414a17890cfc…</td><td>&quot;223938a74a6099…</td><td>&quot;63083678169ddd…</td><td>&quot;33bfe292401fc7…</td><td>null</td><td>null</td><td>null</td><td>null</td><td>null</td><td>null</td><td>null</td><td>null</td><td>null</td><td>null</td><td>null</td><td>null</td><td>null</td><td>null</td><td>&hellip;</td><td>null</td><td>null</td><td>null</td><td>null</td><td>null</td><td>null</td><td>null</td><td>null</td><td>null</td><td>null</td><td>null</td><td>null</td><td>null</td><td>null</td><td>null</td><td>null</td><td>null</td><td>null</td><td>null</td><td>null</td><td>null</td><td>null</td><td>null</td><td>null</td><td>null</td><td>null</td><td>null</td><td>null</td><td>null</td><td>null</td><td>null</td><td>null</td><td>null</td><td>null</td><td>null</td><td>null</td><td>null</td></tr><tr><td>&quot;00026fd325b5d6…</td><td>8822</td><td>756</td><td>null</td><td>null</td><td>null</td><td>null</td><td>null</td><td>null</td><td>null</td><td>null</td><td>0</td><td>52.0</td><td>1.0</td><td>0</td><td>1.0</td><td>null</td><td>null</td><td>null</td><td>&quot;321b69d5eec98f…</td><td>&quot;39c3eb151762dd…</td><td>&quot;ef4accaed5974f…</td><td>&quot;9fbbf71e784c6b…</td><td>0</td><td>null</td><td>null</td><td>1</td><td>null</td><td>null</td><td>null</td><td>null</td><td>&quot;321b69d5eec98f…</td><td>&quot;39c3eb151762dd…</td><td>&quot;ef4accaed5974f…</td><td>&quot;9fbbf71e784c6b…</td><td>null</td><td>null</td><td>&hellip;</td><td>null</td><td>null</td><td>null</td><td>null</td><td>null</td><td>null</td><td>null</td><td>null</td><td>null</td><td>null</td><td>null</td><td>null</td><td>null</td><td>null</td><td>null</td><td>null</td><td>null</td><td>null</td><td>null</td><td>null</td><td>null</td><td>null</td><td>null</td><td>null</td><td>null</td><td>null</td><td>null</td><td>null</td><td>null</td><td>null</td><td>null</td><td>null</td><td>null</td><td>null</td><td>null</td><td>null</td><td>null</td></tr><tr><td>&hellip;</td><td>&hellip;</td><td>&hellip;</td><td>&hellip;</td><td>&hellip;</td><td>&hellip;</td><td>&hellip;</td><td>&hellip;</td><td>&hellip;</td><td>&hellip;</td><td>&hellip;</td><td>&hellip;</td><td>&hellip;</td><td>&hellip;</td><td>&hellip;</td><td>&hellip;</td><td>&hellip;</td><td>&hellip;</td><td>&hellip;</td><td>&hellip;</td><td>&hellip;</td><td>&hellip;</td><td>&hellip;</td><td>&hellip;</td><td>&hellip;</td><td>&hellip;</td><td>&hellip;</td><td>&hellip;</td><td>&hellip;</td><td>&hellip;</td><td>&hellip;</td><td>&hellip;</td><td>&hellip;</td><td>&hellip;</td><td>&hellip;</td><td>&hellip;</td><td>&hellip;</td><td>&hellip;</td><td>&hellip;</td><td>&hellip;</td><td>&hellip;</td><td>&hellip;</td><td>&hellip;</td><td>&hellip;</td><td>&hellip;</td><td>&hellip;</td><td>&hellip;</td><td>&hellip;</td><td>&hellip;</td><td>&hellip;</td><td>&hellip;</td><td>&hellip;</td><td>&hellip;</td><td>&hellip;</td><td>&hellip;</td><td>&hellip;</td><td>&hellip;</td><td>&hellip;</td><td>&hellip;</td><td>&hellip;</td><td>&hellip;</td><td>&hellip;</td><td>&hellip;</td><td>&hellip;</td><td>&hellip;</td><td>&hellip;</td><td>&hellip;</td><td>&hellip;</td><td>&hellip;</td><td>&hellip;</td><td>&hellip;</td><td>&hellip;</td><td>&hellip;</td><td>&hellip;</td><td>&hellip;</td></tr><tr><td>&quot;fffd8c4fa7b5be…</td><td>11806</td><td>null</td><td>null</td><td>null</td><td>null</td><td>null</td><td>null</td><td>null</td><td>null</td><td>null</td><td>0</td><td>86.0</td><td>1.0</td><td>0</td><td>null</td><td>null</td><td>null</td><td>1.0</td><td>&quot;d86102dd9c232b…</td><td>&quot;acb04522bdbc05…</td><td>&quot;2fc4aaf5b6878e…</td><td>&quot;20a35a035bf8de…</td><td>null</td><td>null</td><td>null</td><td>null</td><td>null</td><td>null</td><td>null</td><td>null</td><td>null</td><td>null</td><td>null</td><td>null</td><td>null</td><td>null</td><td>&hellip;</td><td>null</td><td>null</td><td>null</td><td>null</td><td>null</td><td>null</td><td>null</td><td>null</td><td>null</td><td>null</td><td>null</td><td>null</td><td>null</td><td>null</td><td>null</td><td>null</td><td>null</td><td>null</td><td>null</td><td>null</td><td>null</td><td>null</td><td>null</td><td>null</td><td>null</td><td>null</td><td>null</td><td>null</td><td>null</td><td>null</td><td>null</td><td>null</td><td>null</td><td>null</td><td>null</td><td>null</td><td>null</td></tr><tr><td>&quot;fffe2d9e5982f5…</td><td>1268</td><td>null</td><td>null</td><td>null</td><td>null</td><td>null</td><td>null</td><td>null</td><td>null</td><td>null</td><td>0</td><td>159.0</td><td>1.0</td><td>0</td><td>null</td><td>null</td><td>null</td><td>1.0</td><td>&quot;e9316013ee1b03…</td><td>&quot;66c4d01ad8e301…</td><td>&quot;7763c74e2efa67…</td><td>&quot;a0549a1384a56d…</td><td>null</td><td>null</td><td>null</td><td>null</td><td>null</td><td>null</td><td>null</td><td>null</td><td>null</td><td>null</td><td>null</td><td>null</td><td>null</td><td>null</td><td>&hellip;</td><td>null</td><td>null</td><td>null</td><td>null</td><td>null</td><td>null</td><td>null</td><td>null</td><td>null</td><td>null</td><td>null</td><td>null</td><td>null</td><td>null</td><td>null</td><td>null</td><td>null</td><td>null</td><td>null</td><td>null</td><td>null</td><td>null</td><td>null</td><td>null</td><td>null</td><td>null</td><td>null</td><td>null</td><td>null</td><td>null</td><td>null</td><td>null</td><td>null</td><td>null</td><td>null</td><td>null</td><td>null</td></tr><tr><td>&quot;fffe3dedeb89ae…</td><td>3310</td><td>11714</td><td>null</td><td>null</td><td>null</td><td>null</td><td>null</td><td>null</td><td>null</td><td>null</td><td>0</td><td>67.0</td><td>1.0</td><td>0</td><td>null</td><td>null</td><td>null</td><td>1.0</td><td>&quot;43875109d1dab9…</td><td>&quot;3b09a7ce9934c0…</td><td>&quot;2f9e541c8c5b4e…</td><td>&quot;2067c6fd3ac1f0…</td><td>0</td><td>36.0</td><td>1.0</td><td>0</td><td>null</td><td>null</td><td>null</td><td>null</td><td>&quot;43875109d1dab9…</td><td>&quot;3b09a7ce9934c0…</td><td>&quot;2f9e541c8c5b4e…</td><td>&quot;2067c6fd3ac1f0…</td><td>null</td><td>null</td><td>&hellip;</td><td>null</td><td>null</td><td>null</td><td>null</td><td>null</td><td>null</td><td>null</td><td>null</td><td>null</td><td>null</td><td>null</td><td>null</td><td>null</td><td>null</td><td>null</td><td>null</td><td>null</td><td>null</td><td>null</td><td>null</td><td>null</td><td>null</td><td>null</td><td>null</td><td>null</td><td>null</td><td>null</td><td>null</td><td>null</td><td>null</td><td>null</td><td>null</td><td>null</td><td>null</td><td>null</td><td>null</td><td>null</td></tr><tr><td>&quot;fffe40478b2163…</td><td>10818</td><td>2270</td><td>null</td><td>null</td><td>null</td><td>null</td><td>null</td><td>null</td><td>null</td><td>null</td><td>0</td><td>494.0</td><td>1.0</td><td>0</td><td>1.0</td><td>null</td><td>null</td><td>1.0</td><td>&quot;b07b75d367ebec…</td><td>&quot;0a66f6ab9c0507…</td><td>&quot;9ab5718fd88c6e…</td><td>&quot;7aff71bb47acb7…</td><td>0</td><td>181.0</td><td>1.0</td><td>0</td><td>1.0</td><td>null</td><td>null</td><td>1.0</td><td>&quot;b07b75d367ebec…</td><td>&quot;0a66f6ab9c0507…</td><td>&quot;9ab5718fd88c6e…</td><td>&quot;7aff71bb47acb7…</td><td>null</td><td>null</td><td>&hellip;</td><td>null</td><td>null</td><td>null</td><td>null</td><td>null</td><td>null</td><td>null</td><td>null</td><td>null</td><td>null</td><td>null</td><td>null</td><td>null</td><td>null</td><td>null</td><td>null</td><td>null</td><td>null</td><td>null</td><td>null</td><td>null</td><td>null</td><td>null</td><td>null</td><td>null</td><td>null</td><td>null</td><td>null</td><td>null</td><td>null</td><td>null</td><td>null</td><td>null</td><td>null</td><td>null</td><td>null</td><td>null</td></tr><tr><td>&quot;fffe78a078a176…</td><td>12001</td><td>null</td><td>null</td><td>null</td><td>null</td><td>null</td><td>null</td><td>null</td><td>null</td><td>null</td><td>0</td><td>147.0</td><td>1.0</td><td>0</td><td>null</td><td>null</td><td>null</td><td>1.0</td><td>&quot;e9316013ee1b03…</td><td>&quot;06a6febd7478c1…</td><td>&quot;9bbd969339a85b…</td><td>&quot;ffa35ab2dd7300…</td><td>null</td><td>null</td><td>null</td><td>null</td><td>null</td><td>null</td><td>null</td><td>null</td><td>null</td><td>null</td><td>null</td><td>null</td><td>null</td><td>null</td><td>&hellip;</td><td>null</td><td>null</td><td>null</td><td>null</td><td>null</td><td>null</td><td>null</td><td>null</td><td>null</td><td>null</td><td>null</td><td>null</td><td>null</td><td>null</td><td>null</td><td>null</td><td>null</td><td>null</td><td>null</td><td>null</td><td>null</td><td>null</td><td>null</td><td>null</td><td>null</td><td>null</td><td>null</td><td>null</td><td>null</td><td>null</td><td>null</td><td>null</td><td>null</td><td>null</td><td>null</td><td>null</td><td>null</td></tr><tr><td>&quot;fffe8a472ae6a9…</td><td>6810</td><td>11321</td><td>4353</td><td>null</td><td>null</td><td>null</td><td>null</td><td>null</td><td>null</td><td>null</td><td>0</td><td>200.0</td><td>1.0</td><td>0</td><td>null</td><td>null</td><td>null</td><td>null</td><td>&quot;e9316013ee1b03…</td><td>&quot;517061b8165aa6…</td><td>&quot;7e5ebb4d5e3cdf…</td><td>&quot;e5680545edc53d…</td><td>0</td><td>377.0</td><td>1.0</td><td>0</td><td>null</td><td>null</td><td>null</td><td>null</td><td>&quot;e9316013ee1b03…</td><td>&quot;517061b8165aa6…</td><td>&quot;7e5ebb4d5e3cdf…</td><td>&quot;e5680545edc53d…</td><td>0</td><td>228.0</td><td>&hellip;</td><td>null</td><td>null</td><td>null</td><td>null</td><td>null</td><td>null</td><td>null</td><td>null</td><td>null</td><td>null</td><td>null</td><td>null</td><td>null</td><td>null</td><td>null</td><td>null</td><td>null</td><td>null</td><td>null</td><td>null</td><td>null</td><td>null</td><td>null</td><td>null</td><td>null</td><td>null</td><td>null</td><td>null</td><td>null</td><td>null</td><td>null</td><td>null</td><td>null</td><td>null</td><td>null</td><td>null</td><td>null</td></tr><tr><td>&quot;fffe8c99c5b332…</td><td>12598</td><td>6170</td><td>null</td><td>null</td><td>null</td><td>null</td><td>null</td><td>null</td><td>null</td><td>null</td><td>0</td><td>196.0</td><td>1.0</td><td>0</td><td>null</td><td>null</td><td>null</td><td>1.0</td><td>&quot;43875109d1dab9…</td><td>&quot;7d3db9a7acad53…</td><td>&quot;34f448c0371e84…</td><td>&quot;97de2b919a8ec1…</td><td>0</td><td>58.0</td><td>1.0</td><td>0</td><td>null</td><td>null</td><td>null</td><td>1.0</td><td>&quot;43875109d1dab9…</td><td>&quot;7d3db9a7acad53…</td><td>&quot;34f448c0371e84…</td><td>&quot;97de2b919a8ec1…</td><td>null</td><td>null</td><td>&hellip;</td><td>null</td><td>null</td><td>null</td><td>null</td><td>null</td><td>null</td><td>null</td><td>null</td><td>null</td><td>null</td><td>null</td><td>null</td><td>null</td><td>null</td><td>null</td><td>null</td><td>null</td><td>null</td><td>null</td><td>null</td><td>null</td><td>null</td><td>null</td><td>null</td><td>null</td><td>null</td><td>null</td><td>null</td><td>null</td><td>null</td><td>null</td><td>null</td><td>null</td><td>null</td><td>null</td><td>null</td><td>null</td></tr><tr><td>&quot;ffff2262d38abd…</td><td>8140</td><td>null</td><td>null</td><td>null</td><td>null</td><td>null</td><td>null</td><td>null</td><td>null</td><td>null</td><td>0</td><td>164.0</td><td>1.0</td><td>1</td><td>1.0</td><td>null</td><td>null</td><td>1.0</td><td>&quot;b07b75d367ebec…</td><td>&quot;0a66f6ab9c0507…</td><td>&quot;9ab5718fd88c6e…</td><td>&quot;7aff71bb47acb7…</td><td>null</td><td>null</td><td>null</td><td>null</td><td>null</td><td>null</td><td>null</td><td>null</td><td>null</td><td>null</td><td>null</td><td>null</td><td>null</td><td>null</td><td>&hellip;</td><td>null</td><td>null</td><td>null</td><td>null</td><td>null</td><td>null</td><td>null</td><td>null</td><td>null</td><td>null</td><td>null</td><td>null</td><td>null</td><td>null</td><td>null</td><td>null</td><td>null</td><td>null</td><td>null</td><td>null</td><td>null</td><td>null</td><td>null</td><td>null</td><td>null</td><td>null</td><td>null</td><td>null</td><td>null</td><td>null</td><td>null</td><td>null</td><td>null</td><td>null</td><td>null</td><td>null</td><td>null</td></tr><tr><td>&quot;ffff2360540745…</td><td>2121</td><td>null</td><td>null</td><td>null</td><td>null</td><td>null</td><td>null</td><td>null</td><td>null</td><td>null</td><td>0</td><td>30.0</td><td>1.0</td><td>0</td><td>1.0</td><td>null</td><td>null</td><td>1.0</td><td>&quot;c312e07b7a5d45…</td><td>&quot;a738e672656974…</td><td>&quot;ee5518ed106a6e…</td><td>&quot;2a8ec22a10c934…</td><td>null</td><td>null</td><td>null</td><td>null</td><td>null</td><td>null</td><td>null</td><td>null</td><td>null</td><td>null</td><td>null</td><td>null</td><td>null</td><td>null</td><td>&hellip;</td><td>null</td><td>null</td><td>null</td><td>null</td><td>null</td><td>null</td><td>null</td><td>null</td><td>null</td><td>null</td><td>null</td><td>null</td><td>null</td><td>null</td><td>null</td><td>null</td><td>null</td><td>null</td><td>null</td><td>null</td><td>null</td><td>null</td><td>null</td><td>null</td><td>null</td><td>null</td><td>null</td><td>null</td><td>null</td><td>null</td><td>null</td><td>null</td><td>null</td><td>null</td><td>null</td><td>null</td><td>null</td></tr><tr><td>&quot;ffff7fb4617164…</td><td>7183</td><td>null</td><td>null</td><td>null</td><td>null</td><td>null</td><td>null</td><td>null</td><td>null</td><td>null</td><td>0</td><td>185.0</td><td>1.0</td><td>0</td><td>1.0</td><td>null</td><td>null</td><td>1.0</td><td>&quot;46e33861f921c3…</td><td>&quot;c86352f5b57e80…</td><td>&quot;9d6a46da05976c…</td><td>&quot;4a4c8d9d06f383…</td><td>null</td><td>null</td><td>null</td><td>null</td><td>null</td><td>null</td><td>null</td><td>null</td><td>null</td><td>null</td><td>null</td><td>null</td><td>null</td><td>null</td><td>&hellip;</td><td>null</td><td>null</td><td>null</td><td>null</td><td>null</td><td>null</td><td>null</td><td>null</td><td>null</td><td>null</td><td>null</td><td>null</td><td>null</td><td>null</td><td>null</td><td>null</td><td>null</td><td>null</td><td>null</td><td>null</td><td>null</td><td>null</td><td>null</td><td>null</td><td>null</td><td>null</td><td>null</td><td>null</td><td>null</td><td>null</td><td>null</td><td>null</td><td>null</td><td>null</td><td>null</td><td>null</td><td>null</td></tr><tr><td>&quot;ffffcd5bc19d62…</td><td>12230</td><td>10619</td><td>12230</td><td>null</td><td>null</td><td>null</td><td>null</td><td>null</td><td>null</td><td>null</td><td>0</td><td>354.0</td><td>1.0</td><td>0</td><td>null</td><td>null</td><td>null</td><td>1.0</td><td>&quot;321b69d5eec98f…</td><td>&quot;a2b54b288d51bb…</td><td>&quot;0c92ce61d0bf83…</td><td>&quot;de9c306d6999d6…</td><td>0</td><td>null</td><td>1.0</td><td>0</td><td>null</td><td>null</td><td>null</td><td>1.0</td><td>&quot;321b69d5eec98f…</td><td>&quot;a2b54b288d51bb…</td><td>&quot;0c92ce61d0bf83…</td><td>&quot;de9c306d6999d6…</td><td>0</td><td>354.0</td><td>&hellip;</td><td>null</td><td>null</td><td>null</td><td>null</td><td>null</td><td>null</td><td>null</td><td>null</td><td>null</td><td>null</td><td>null</td><td>null</td><td>null</td><td>null</td><td>null</td><td>null</td><td>null</td><td>null</td><td>null</td><td>null</td><td>null</td><td>null</td><td>null</td><td>null</td><td>null</td><td>null</td><td>null</td><td>null</td><td>null</td><td>null</td><td>null</td><td>null</td><td>null</td><td>null</td><td>null</td><td>null</td><td>null</td></tr><tr><td>&quot;fffffa7baf3700…</td><td>11822</td><td>2439</td><td>null</td><td>null</td><td>null</td><td>null</td><td>null</td><td>null</td><td>null</td><td>null</td><td>0</td><td>161.0</td><td>1.0</td><td>0</td><td>1.0</td><td>null</td><td>null</td><td>1.0</td><td>&quot;46e33861f921c3…</td><td>&quot;572d60f0f5212a…</td><td>&quot;8a623b960557e8…</td><td>&quot;ab9480fd72a44d…</td><td>0</td><td>81.0</td><td>1.0</td><td>0</td><td>1.0</td><td>null</td><td>null</td><td>1.0</td><td>&quot;46e33861f921c3…</td><td>&quot;572d60f0f5212a…</td><td>&quot;8a623b960557e8…</td><td>&quot;ab9480fd72a44d…</td><td>null</td><td>null</td><td>&hellip;</td><td>null</td><td>null</td><td>null</td><td>null</td><td>null</td><td>null</td><td>null</td><td>null</td><td>null</td><td>null</td><td>null</td><td>null</td><td>null</td><td>null</td><td>null</td><td>null</td><td>null</td><td>null</td><td>null</td><td>null</td><td>null</td><td>null</td><td>null</td><td>null</td><td>null</td><td>null</td><td>null</td><td>null</td><td>null</td><td>null</td><td>null</td><td>null</td><td>null</td><td>null</td><td>null</td><td>null</td><td>null</td></tr></tbody></table></div>"
      ],
      "text/plain": [
       "shape: (288_698, 131)\n",
       "┌──────────────────────┬───────┬───────┬───────┬───┬───────────┬───────────┬───────────┬───────────┐\n",
       "│ session_id           ┆ yad_1 ┆ yad_2 ┆ yad_3 ┆ … ┆ wid_cd_10 ┆ ken_cd_10 ┆ lrg_cd_10 ┆ sml_cd_10 │\n",
       "│ ---                  ┆ ---   ┆ ---   ┆ ---   ┆   ┆ ---       ┆ ---       ┆ ---       ┆ ---       │\n",
       "│ str                  ┆ i64   ┆ i64   ┆ i64   ┆   ┆ str       ┆ str       ┆ str       ┆ str       │\n",
       "╞══════════════════════╪═══════╪═══════╪═══════╪═══╪═══════════╪═══════════╪═══════════╪═══════════╡\n",
       "│ 000007603d533d30453c ┆ 2395  ┆ null  ┆ null  ┆ … ┆ null      ┆ null      ┆ null      ┆ null      │\n",
       "│ c45d0f3d119f         ┆       ┆       ┆       ┆   ┆           ┆           ┆           ┆           │\n",
       "│ 0000ca043ed437a1472c ┆ 13535 ┆ null  ┆ null  ┆ … ┆ null      ┆ null      ┆ null      ┆ null      │\n",
       "│ 9d1d154eb49b         ┆       ┆       ┆       ┆   ┆           ┆           ┆           ┆           │\n",
       "│ 0000d4835cf113316fe4 ┆ 123   ┆ null  ┆ null  ┆ … ┆ null      ┆ null      ┆ null      ┆ null      │\n",
       "│ 47e2f80ba1c8         ┆       ┆       ┆       ┆   ┆           ┆           ┆           ┆           │\n",
       "│ 0000fcda1ae1b2f431e5 ┆ 8475  ┆ null  ┆ null  ┆ … ┆ null      ┆ null      ┆ null      ┆ null      │\n",
       "│ 5a7075d1f500         ┆       ┆       ┆       ┆   ┆           ┆           ┆           ┆           │\n",
       "│ …                    ┆ …     ┆ …     ┆ …     ┆ … ┆ …         ┆ …         ┆ …         ┆ …         │\n",
       "│ ffff2360540745117193 ┆ 2121  ┆ null  ┆ null  ┆ … ┆ null      ┆ null      ┆ null      ┆ null      │\n",
       "│ ecadcdc06538         ┆       ┆       ┆       ┆   ┆           ┆           ┆           ┆           │\n",
       "│ ffff7fb4617164b2604a ┆ 7183  ┆ null  ┆ null  ┆ … ┆ null      ┆ null      ┆ null      ┆ null      │\n",
       "│ af51c40bf82d         ┆       ┆       ┆       ┆   ┆           ┆           ┆           ┆           │\n",
       "│ ffffcd5bc19d62cad5a3 ┆ 12230 ┆ 10619 ┆ 12230 ┆ … ┆ null      ┆ null      ┆ null      ┆ null      │\n",
       "│ 815c87818d83         ┆       ┆       ┆       ┆   ┆           ┆           ┆           ┆           │\n",
       "│ fffffa7baf370083ebcd ┆ 11822 ┆ 2439  ┆ null  ┆ … ┆ null      ┆ null      ┆ null      ┆ null      │\n",
       "│ d98f26a7e31a         ┆       ┆       ┆       ┆   ┆           ┆           ┆           ┆           │\n",
       "└──────────────────────┴───────┴───────┴───────┴───┴───────────┴───────────┴───────────┴───────────┘"
      ]
     },
     "execution_count": 99,
     "metadata": {},
     "output_type": "execute_result"
    }
   ],
   "source": [
    "pivoted_feature\n"
   ]
  },
  {
   "cell_type": "code",
   "execution_count": null,
   "id": "aa8b18b7-1f22-4534-89b9-7940540d99d7",
   "metadata": {},
   "outputs": [],
   "source": []
  }
 ],
 "metadata": {
  "kernelspec": {
   "display_name": "Python 3 (ipykernel)",
   "language": "python",
   "name": "python3"
  },
  "language_info": {
   "codemirror_mode": {
    "name": "ipython",
    "version": 3
   },
   "file_extension": ".py",
   "mimetype": "text/x-python",
   "name": "python",
   "nbconvert_exporter": "python",
   "pygments_lexer": "ipython3",
   "version": "3.10.12"
  }
 },
 "nbformat": 4,
 "nbformat_minor": 5
}
